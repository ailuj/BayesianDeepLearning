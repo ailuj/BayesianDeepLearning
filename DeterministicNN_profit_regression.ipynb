{
 "cells": [
  {
   "cell_type": "code",
   "execution_count": 28,
   "metadata": {},
   "outputs": [],
   "source": [
    "import pandas as pd\n",
    "import tensorflow as tf\n",
    "import keras\n",
    "from keras import layers\n",
    "from sklearn.model_selection import train_test_split"
   ]
  },
  {
   "cell_type": "code",
   "execution_count": 40,
   "metadata": {},
   "outputs": [],
   "source": [
    "loan = pd.read_csv(\"data/loan.csv\", low_memory=False, nrows=10000)\n",
    "loan = loan[loan[\"loan_status\"] != \"Current\"]\n",
    "\n",
    "data = loan[[\"annual_inc\", \"int_rate\", \"purpose\", \"loan_amnt\"]]\n",
    "data = pd.get_dummies(features)\n",
    "data[\"profit\"] = loan.apply(lambda x: ((x['total_pymnt'] - x['loan_amnt'])/x['loan_amnt']), axis = 1)\n",
    "data[\"profit\"] = data[\"profit\"].round(2)\n",
    "\n",
    "train_dataset = data.sample(frac=0.8,random_state=0)\n",
    "test_dataset = data.drop(train_dataset.index)\n",
    "\n",
    "#x_train, x_test, y_train, y_test = train_test_split(features, target, test_size=0.33, random_state=42)"
   ]
  },
  {
   "cell_type": "code",
   "execution_count": 44,
   "metadata": {},
   "outputs": [],
   "source": [
    "train_stats = train_dataset.describe()\n",
    "train_stats.pop(\"profit\")\n",
    "train_stats = train_stats.transpose()\n",
    "train_stats\n",
    "\n",
    "train_labels = train_dataset.pop('profit')\n",
    "test_labels = test_dataset.pop('profit')\n",
    "\n",
    "def norm(x):\n",
    "      return (x - train_stats['mean']) / train_stats['std']\n",
    "normed_train_data = norm(train_dataset)\n",
    "normed_test_data = norm(test_dataset)"
   ]
  },
  {
   "cell_type": "code",
   "execution_count": 47,
   "metadata": {},
   "outputs": [],
   "source": [
    "def build_model():\n",
    "    print(train_dataset.keys())\n",
    "    model = keras.Sequential([\n",
    "    layers.Dense(64, activation=tf.nn.relu, input_shape=[len(train_dataset.keys())]),\n",
    "    layers.Dense(64, activation=tf.nn.relu),\n",
    "    layers.Dense(1)\n",
    "    ])\n",
    "\n",
    "    optimizer = tf.train.RMSPropOptimizer(0.001)\n",
    "\n",
    "    model.compile(loss='mse',\n",
    "                optimizer=optimizer,\n",
    "                metrics=['mae', 'mse'])\n",
    "    return model"
   ]
  },
  {
   "cell_type": "code",
   "execution_count": 48,
   "metadata": {},
   "outputs": [
    {
     "name": "stdout",
     "output_type": "stream",
     "text": [
      "Index(['annual_inc', 'int_rate', 'loan_amnt', 'purpose_car',\n",
      "       'purpose_credit_card', 'purpose_debt_consolidation',\n",
      "       'purpose_home_improvement', 'purpose_house', 'purpose_major_purchase',\n",
      "       'purpose_medical', 'purpose_moving', 'purpose_other',\n",
      "       'purpose_renewable_energy', 'purpose_small_business',\n",
      "       'purpose_vacation', 'purpose_wedding'],\n",
      "      dtype='object')\n"
     ]
    }
   ],
   "source": [
    "model = build_model()"
   ]
  },
  {
   "cell_type": "code",
   "execution_count": 49,
   "metadata": {},
   "outputs": [
    {
     "name": "stdout",
     "output_type": "stream",
     "text": [
      "\n",
      "....................................................................................................\n",
      "....................................................................................................\n",
      "....................................................................................................\n",
      "....................................................................................................\n",
      "...................................................................................................."
     ]
    }
   ],
   "source": [
    "# Display training progress by printing a single dot for each completed epoch\n",
    "class PrintDot(keras.callbacks.Callback):\n",
    "    def on_epoch_end(self, epoch, logs):\n",
    "        if epoch % 100 == 0: print('')\n",
    "        print('.', end='')\n",
    "\n",
    "EPOCHS = 500\n",
    "\n",
    "history = model.fit(\n",
    "  normed_train_data, train_labels,\n",
    "  epochs=EPOCHS, validation_split = 0.2, verbose=0,\n",
    "  callbacks=[PrintDot()])"
   ]
  },
  {
   "cell_type": "code",
   "execution_count": 63,
   "metadata": {},
   "outputs": [],
   "source": [
    "pred = model.predict(normed_test_data).flatten()"
   ]
  },
  {
   "cell_type": "code",
   "execution_count": 69,
   "metadata": {},
   "outputs": [
    {
     "name": "stdout",
     "output_type": "stream",
     "text": [
      "[0.14257239 0.08156215 0.09419264 ... 0.04490371 0.0626417  0.21986048]\n"
     ]
    }
   ],
   "source": [
    "print(pred)\n",
    "test_labels = test_labels.values.tolist()"
   ]
  },
  {
   "cell_type": "code",
   "execution_count": 70,
   "metadata": {},
   "outputs": [
    {
     "name": "stdout",
     "output_type": "stream",
     "text": [
      "Requirement already satisfied: scipy in /Library/Frameworks/Python.framework/Versions/3.7/lib/python3.7/site-packages (1.2.0)\n",
      "Requirement already satisfied: numpy>=1.8.2 in /Library/Frameworks/Python.framework/Versions/3.7/lib/python3.7/site-packages (from scipy) (1.15.4)\n",
      "er 159.82839431597273\n",
      "MSE 0.08835179343060957\n",
      "variance 0.047066067348969176\n",
      "average of errors  0.08835179343060984\n",
      "average of observed values 0.07042564953012716\n",
      "kurtosis 25.665604114774194\n",
      "skewness 4.383910211288911\n"
     ]
    }
   ],
   "source": [
    "import matplotlib.pyplot as plt\n",
    "from sklearn import linear_model\n",
    "import numpy as np\n",
    "from sklearn.metrics import mean_squared_error, r2_score\n",
    "!pip install scipy\n",
    "from scipy.stats import kurtosis, skew\n",
    "\n",
    "\n",
    "er = []\n",
    "g = 0\n",
    "for i in range(len(test_labels)):\n",
    "    #print( \"actual=\", y_test[i], \" observed=\", pred[i])\n",
    "    x = (test_labels[i] - pred[i]) **2\n",
    "    er.append(x)\n",
    "    g = g + x\n",
    "    \n",
    "x = 0\n",
    "for i in range(len(er)):\n",
    "    x = x + er[i]\n",
    "print(\"er\", sum(er))\n",
    "print (\"MSE\", x / len(er))\n",
    "\n",
    "v = np.var(er)\n",
    "print (\"variance\", v)\n",
    "\n",
    "print (\"average of errors \", np.mean(er))\n",
    "\n",
    "m = np.mean(test_labels)\n",
    "print (\"average of observed values\", m)\n",
    "\n",
    "y = 0\n",
    "for i in range(len(test_labels)):\n",
    "    y = y + ((test_labels[i] - m) ** 2)\n",
    "    \n",
    "\n",
    "#print (\"total sum of squares\", y)\n",
    "#print (\"ẗotal sum of residuals \", g)\n",
    "#print (\"r2 calculated\", 1 - (g / y))\n",
    "print(\"kurtosis\", kurtosis(er))\n",
    "print(\"skewness\", skew(er))\n"
   ]
  },
  {
   "cell_type": "code",
   "execution_count": null,
   "metadata": {},
   "outputs": [],
   "source": []
  }
 ],
 "metadata": {
  "kernelspec": {
   "display_name": "Python 3",
   "language": "python",
   "name": "python3"
  },
  "language_info": {
   "codemirror_mode": {
    "name": "ipython",
    "version": 3
   },
   "file_extension": ".py",
   "mimetype": "text/x-python",
   "name": "python",
   "nbconvert_exporter": "python",
   "pygments_lexer": "ipython3",
   "version": "3.7.1"
  }
 },
 "nbformat": 4,
 "nbformat_minor": 2
}
