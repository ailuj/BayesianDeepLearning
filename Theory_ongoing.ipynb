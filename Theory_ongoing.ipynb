{
  "nbformat": 4,
  "nbformat_minor": 0,
  "metadata": {
    "colab": {
      "name": "Theory.ipynb",
      "version": "0.3.2",
      "provenance": [],
      "include_colab_link": true
    },
    "kernelspec": {
      "name": "python3",
      "display_name": "Python 3"
    }
  },
  "cells": [
    {
      "cell_type": "markdown",
      "metadata": {
        "id": "view-in-github",
        "colab_type": "text"
      },
      "source": [
        "<a href=\"https://colab.research.google.com/github/ailuj/BayesianDeepLearning/blob/playground/Theory_ongoing.ipynb\" target=\"_parent\"><img src=\"https://colab.research.google.com/assets/colab-badge.svg\" alt=\"Open In Colab\"/></a>"
      ]
    },
    {
      "metadata": {
        "id": "TafjLO6XLm9i",
        "colab_type": "text"
      },
      "cell_type": "markdown",
      "source": [
        "# 1. Bayesian Inference Basics: The Posterior"
      ]
    },
    {
      "metadata": {
        "id": "sMW0sJrqLxHK",
        "colab_type": "text"
      },
      "cell_type": "markdown",
      "source": [
        "Below we defined a biased coin which is quite slowly approaches to its true mean. The setting is as follows:\n",
        "* A coin that returns heads with 0.99 probability and tails with 0.01 probability\n",
        "* A latent variable that chooses this coin with 0.66 probability, else it chooses tails without tossing coins.\n",
        "* We are concerned with the probability of heads, $P(x)$\n",
        "* With this parameters, we keep $P(\\theta) =  P(x)$ for simplicity."
      ]
    },
    {
      "metadata": {
        "id": "h_0-N-DtLyW0",
        "colab_type": "code",
        "colab": {}
      },
      "cell_type": "code",
      "source": [
        "def coin(times):\n",
        "    target = []\n",
        "    for _ in range(times):\n",
        "        latent = np.random.random()\n",
        "        if(latent <= 2.0/3.0):\n",
        "            coin_A = np.random.random()\n",
        "            if(coin_A <= 0.9):\n",
        "                result = 1\n",
        "            else:\n",
        "                result = 0\n",
        "        else:\n",
        "            result = 0\n",
        "        target.append(result)\n",
        "    MLE = np.mean(target)\n",
        "    return MLE  "
      ],
      "execution_count": 0,
      "outputs": []
    },
    {
      "metadata": {
        "id": "ioEUsiayL1WF",
        "colab_type": "code",
        "colab": {
          "base_uri": "https://localhost:8080/",
          "height": 34
        },
        "outputId": "d4ed41ac-8176-4277-c067-8e263ad575c2"
      },
      "cell_type": "code",
      "source": [
        "import numpy as np\n",
        "\n",
        "np.random.seed(200)\n",
        "a = np.mean(coin(10))\n",
        "b = np.mean(coin(100))\n",
        "c = np.mean(coin(1000))\n",
        "d = np.mean(coin(10000))\n",
        "e = np.mean(coin(100000))\n",
        "f = np.mean(coin(1000000))\n",
        "print(a,b,c,d,e,f)"
      ],
      "execution_count": 4,
      "outputs": [
        {
          "output_type": "stream",
          "text": [
            "0.4 0.52 0.589 0.5952 0.60108 0.599653\n"
          ],
          "name": "stdout"
        }
      ]
    },
    {
      "metadata": {
        "id": "G9p5EZMlL8VU",
        "colab_type": "text"
      },
      "cell_type": "markdown",
      "source": [
        "The maximum likelihood estimator is equal to the mean of the samples. There are two visible drawbacks:\n",
        "* MLE is biased in small samples\n",
        "* MLE doesn't account for the uncertainty difference between 10000 draws and a million draws\n",
        "\n"
      ]
    },
    {
      "metadata": {
        "id": "KNlDgY6LL_h0",
        "colab_type": "text"
      },
      "cell_type": "markdown",
      "source": [
        "How can we make an inference of the coin given the observations ?"
      ]
    },
    {
      "metadata": {
        "id": "SOuVp9wAMBTo",
        "colab_type": "text"
      },
      "cell_type": "markdown",
      "source": [
        "By Bayes' rule, we can define the posterior as follows"
      ]
    },
    {
      "metadata": {
        "id": "OEoz2TcQMEtv",
        "colab_type": "text"
      },
      "cell_type": "markdown",
      "source": [
        "$$ P(x|\\theta)P(x) = P(\\theta| x)p(\\theta) $$ <br> \n",
        "$$P(x|\\theta) = \\frac{P(\\theta | x)p(\\theta)}{P(x)} $$\n",
        "\n"
      ]
    },
    {
      "metadata": {
        "id": "EJdY2v4cMIcU",
        "colab_type": "text"
      },
      "cell_type": "markdown",
      "source": [
        "We have designed the experiment in a way that $P(\\theta) =  P(x)$ for simplicity.\n",
        "\n"
      ]
    },
    {
      "metadata": {
        "id": "29yiwtgxMMFm",
        "colab_type": "text"
      },
      "cell_type": "markdown",
      "source": [
        "$$ P(\\theta| x) = \\frac{\\binom{N}{k} p^{k}(1-p)^{N-k}P(\\theta)} {P(x)}$$"
      ]
    },
    {
      "metadata": {
        "id": "xdCqpJ9pMOj5",
        "colab_type": "text"
      },
      "cell_type": "markdown",
      "source": [
        "Note 1: During MAP estimation the following proportionality is used by assuming that $P(x)$ is deterministic: $ P(\\theta | x) \\propto P(x | \\theta) P(\\theta)$ <br>\n",
        "Note 2: However the main issue with Bayesian estiation is approximating $P(x)$"
      ]
    },
    {
      "metadata": {
        "id": "4lsBrPgTMQ56",
        "colab_type": "text"
      },
      "cell_type": "markdown",
      "source": [
        "We got our posterior distribution as $P(\\theta| x) = \\binom{N}{k} p^{k}(1-p)^{N-k}.\n",
        "$ Let's take samples from our posterior distribution:"
      ]
    },
    {
      "metadata": {
        "id": "yTRlVJX8MHzv",
        "colab_type": "code",
        "colab": {}
      },
      "cell_type": "code",
      "source": [
        "np.random.seed(200)\n",
        "posterior_sample_1000 = np.random.binomial(1000, 0.589, size = [1000,])\n",
        "posterior_sample_100 = np.random.binomial(100, 0.52, size = [100,])\n",
        "posterior_sample_10 = np.random.binomial(10, 0.4, size = [10,])"
      ],
      "execution_count": 0,
      "outputs": []
    },
    {
      "metadata": {
        "id": "tEu3phcsMTTw",
        "colab_type": "code",
        "colab": {
          "base_uri": "https://localhost:8080/",
          "height": 413
        },
        "outputId": "bbe78931-515e-4562-b99c-46a776f9c6be"
      },
      "cell_type": "code",
      "source": [
        "from matplotlib import pyplot as plt\n",
        "plt.hist(posterior_sample_10/10.0)\n",
        "plt.axvline(np.median(posterior_sample_10/10.0), color = 'y', linewidth = 4, label = 'Maximum Likelihood Estimation')\n",
        "plt.title('10 samples from the posterior')\n",
        "plt.legend()\n",
        "plt.show()\n",
        "print('Mean: {}'.format(np.mean(posterior_sample_10/10.0)))\n",
        "print('Standard deviation: {}'.format(np.std(posterior_sample_10/10.0)))\n",
        "print('Uncertainty is high and far from the true mean 0.59')"
      ],
      "execution_count": 7,
      "outputs": [
        {
          "output_type": "display_data",
          "data": {
            "image/png": "[encoded data removed]",
            "text/plain": [
              "<matplotlib.figure.Figure at 0x7f296e6bbb70>"
            ]
          },
          "metadata": {
            "tags": []
          }
        },
        {
          "output_type": "stream",
          "text": [
            "Mean: 0.45\n",
            "Standard deviation: 0.12041594578792293\n",
            "Uncertainty is high and far from the true mean 0.59\n"
          ],
          "name": "stdout"
        }
      ]
    },
    {
      "metadata": {
        "id": "PyrkKMk4MU12",
        "colab_type": "code",
        "colab": {
          "base_uri": "https://localhost:8080/",
          "height": 413
        },
        "outputId": "a3681c12-3fe5-40da-baa1-e0b288bb3a59"
      },
      "cell_type": "code",
      "source": [
        "from matplotlib import pyplot as plt\n",
        "plt.hist(posterior_sample_100/100.0)\n",
        "plt.axvline(np.median(posterior_sample_100/100.0), color = 'y', linewidth = 4, label = 'Maximum Likelihood Estimation')\n",
        "plt.title('100 samples from the posterior')\n",
        "plt.legend()\n",
        "plt.show()\n",
        "print('Mean: {}'.format(np.mean(posterior_sample_100/100.0)))\n",
        "print('Standard deviation: {}'.format(np.std(posterior_sample_100/100.0)))\n",
        "print('Uncertainty is middle and middle distance to the true mean 0.59')"
      ],
      "execution_count": 8,
      "outputs": [
        {
          "output_type": "display_data",
          "data": {
            "image/png": "[encoded data removed]",
            "text/plain": [
              "<matplotlib.figure.Figure at 0x7f296e6bba58>"
            ]
          },
          "metadata": {
            "tags": []
          }
        },
        {
          "output_type": "stream",
          "text": [
            "Mean: 0.5238\n",
            "Standard deviation: 0.0484516253597338\n",
            "Uncertainty is middle and middle distance to the true mean 0.59\n"
          ],
          "name": "stdout"
        }
      ]
    },
    {
      "metadata": {
        "id": "fKx2m-p_MWdE",
        "colab_type": "code",
        "colab": {
          "base_uri": "https://localhost:8080/",
          "height": 413
        },
        "outputId": "80c6a071-44e2-4199-f4d3-82070918bddb"
      },
      "cell_type": "code",
      "source": [
        "from matplotlib import pyplot as plt\n",
        "plt.hist(posterior_sample_1000/1000.0)\n",
        "plt.axvline(np.median(posterior_sample_1000/1000.0), color = 'y', linewidth = 4, label = 'Maximum Likelihood Estimation')\n",
        "plt.title('1000 samples from the posterior')\n",
        "plt.legend()\n",
        "plt.show()\n",
        "print('Mean: {}'.format(np.mean(posterior_sample_1000/1000.0)))\n",
        "print('Standard deviation: {}'.format(np.std(posterior_sample_1000/1000.0)))\n",
        "print('Uncertainty is low and close to the true mean 0.59')"
      ],
      "execution_count": 9,
      "outputs": [
        {
          "output_type": "display_data",
          "data": {
            "image/png": "[encoded data removed]",
            "text/plain": [
              "<matplotlib.figure.Figure at 0x7f296bda19e8>"
            ]
          },
          "metadata": {
            "tags": []
          }
        },
        {
          "output_type": "stream",
          "text": [
            "Mean: 0.58905\n",
            "Standard deviation: 0.015947021665502308\n",
            "Uncertainty is low and close to the true mean 0.59\n"
          ],
          "name": "stdout"
        }
      ]
    },
    {
      "metadata": {
        "id": "KeDc8ItpMaT0",
        "colab_type": "text"
      },
      "cell_type": "markdown",
      "source": [
        "Summary: \n",
        "* With Bayesian inference, we can obtain **the whole distribution** over our parameters, namely for our predictions. And we sample from the posterior predictive distribution.\n",
        "* In small samples like when we take 10 tosses, Bayesian inference reminds us that the true mean could be far away from our mean estimation.\n",
        "* It is quite complicated to choose a prior $P(\\theta)$, and approximating the evidence $P(x) = \\int P(x, \\theta)d\\theta$. In deep learning setting, we focus on the latter."
      ]
    },
    {
      "metadata": {
        "id": "aEevleeuMc6K",
        "colab_type": "text"
      },
      "cell_type": "markdown",
      "source": [
        "# 2. Estimating/Approximating P(x)"
      ]
    },
    {
      "metadata": {
        "id": "CY8EyGxLMev2",
        "colab_type": "text"
      },
      "cell_type": "markdown",
      "source": [
        "$$P(\\theta | x) =\\frac{P(x | \\theta) P(\\theta)}{P(x)} \\implies P(\\theta | x) =\\frac{P(x, \\theta)}{\\int P(x, \\theta)d\\theta}$$"
      ]
    },
    {
      "metadata": {
        "id": "ZFVsQtuLMg-V",
        "colab_type": "text"
      },
      "cell_type": "markdown",
      "source": [
        " The posterior cannot usually be computed directly due to the high-dimensional integral in the denominator. It has to be approximated. "
      ]
    },
    {
      "metadata": {
        "id": "_D6H8C-eMkdN",
        "colab_type": "text"
      },
      "cell_type": "markdown",
      "source": [
        "### Hamiltonian Monte Carlo Markov Chain"
      ]
    },
    {
      "metadata": {
        "id": "AOWhaEqNMm7z",
        "colab_type": "text"
      },
      "cell_type": "markdown",
      "source": [
        "The idea behind Markov Chain Monte Carlo (MCMC) is to construct a Markov Chain on the state space of  𝑥\n",
        "x\n",
        " , whose stationary posterior distribution is the target density. Markov Chain allows us to take correlated samples and it is particularly useful to arrive at the typical set during sampling from the posterior distribution. We start MCMC from an arbitrary initial state and continue until we take samples only from the typical set. The samples from the beginning until the time we arrived to the typical set will be ignored. This period is called as burn-in phase. The MCMC forgets where it started from, and stays sampling exactly from the area we wanted."
      ]
    },
    {
      "metadata": {
        "id": "KeRUKW3GMpAV",
        "colab_type": "text"
      },
      "cell_type": "markdown",
      "source": [
        "Although the idea of MCMC approximation makes sense, there is an inherent problem with it: It is hard to be sure whether we passed burn-in phase and if so, we might not live enough to see it occurring. Even in small samples, it takes a long time for MCMC sampling to converge. (Murphy, Chapter 24)"
      ]
    },
    {
      "metadata": {
        "id": "oTJmD2KaMrea",
        "colab_type": "text"
      },
      "cell_type": "markdown",
      "source": [
        "Hamiltonian MCMC (HMC) constructs \"Markov transitions by lifting into, exploring, and projecting from the expanded space\" of the typical set (Betancourt 2018). It covers the typical set very fast in comparison to the classical MCMC and provides with a physical explanation. Therefore, it is a big step towards improving the issues with duration and diagnosis of the burn-in phase of MCMC."
      ]
    },
    {
      "metadata": {
        "id": "UqAcyHb0NTD-",
        "colab_type": "text"
      },
      "cell_type": "markdown",
      "source": [
        "Check the link out, we have a gif of it, it is cool\n",
        "\n",
        "http://chi-feng.github.io/mcmc-demo/app.html#HamiltonianMC,banana"
      ]
    },
    {
      "metadata": {
        "id": "4ar39vZENtVV",
        "colab_type": "text"
      },
      "cell_type": "markdown",
      "source": [
        "### Variational Inference"
      ]
    },
    {
      "metadata": {
        "id": "iGOREIfTNvTI",
        "colab_type": "text"
      },
      "cell_type": "markdown",
      "source": [
        "The main idea in variational inference is to pick an approximation to $q(\\theta)$ and then to make this approximation as close as possible to the posterior $p(\\theta | x)$. The problem is that the posterior is intractable, hence the optimization is not solvable. Yet, we can find a lower bound to this divergence, called **Evidence Lower Bound (ELBO)**. We maximize ELBO with respect to $\\lambda$, given by:"
      ]
    },
    {
      "metadata": {
        "id": "2rXqA7xuNxbS",
        "colab_type": "text"
      },
      "cell_type": "markdown",
      "source": [
        "$$ \\lambda* = \\underset{\\lambda}{\\operatorname{argmin}}KL(q(\\theta | \\lambda) || p(\\theta | x)) \\iff \\lambda* = \\underset{\\lambda}{\\operatorname{argmin}} \\mathop{\\mathbb{E}}_{q(\\theta | \\lambda)}[ logq(\\theta; \\lambda) - log p(\\theta | x)] $$"
      ]
    },
    {
      "metadata": {
        "id": "fqmUZ0lLNzw4",
        "colab_type": "text"
      },
      "cell_type": "markdown",
      "source": [
        "$$ELBO(\\lambda) = \\mathop{\\mathbb{E}}_{q(\\theta | \\lambda)}[logp(x,\\theta) - logq(\\theta; \\lambda] \\iff ELBO(\\lambda) = \\mathop{\\mathbb{E}}_{q(\\theta | \\lambda)}[logp(x,\\theta)] - \\mathop{\\mathbb{E}}_{q(\\theta | \\lambda)}[logq(\\theta; \\lambda)] $$"
      ]
    },
    {
      "metadata": {
        "id": "4ZAPeMBmN1uP",
        "colab_type": "text"
      },
      "cell_type": "markdown",
      "source": [
        "Summary:\n",
        "   * MCMC may not converge and takes much time\n",
        "   * HMC samples faster using physics. HMC is more efficient than MCMC for high dimensional big data.\n",
        "   * VI is faster and reliable in small sets. It is easy to determinate where to stop, and it often provides a lower bound on the log-likelihood.\n",
        "   * MCMC methods are usually better than VI when applied to huge datasets. \n",
        "   * MCMC methods are applicable to a broader range of models. "
      ]
    },
    {
      "metadata": {
        "id": "bIQWtQxhN39y",
        "colab_type": "text"
      },
      "cell_type": "markdown",
      "source": [
        "# 3. Application to Neural Networks: Stochastic Weights"
      ]
    },
    {
      "metadata": {
        "id": "14hOHhSFN_A_",
        "colab_type": "text"
      },
      "cell_type": "markdown",
      "source": [
        "Working with neural networks, we consider weights $W$ as the stochastic parameter $\\theta$, while the inference is done for $𝑃(W|𝑥)$"
      ]
    },
    {
      "metadata": {
        "id": "Z8c1UFPqOnOR",
        "colab_type": "text"
      },
      "cell_type": "markdown",
      "source": [
        "Optional: Show the Gal's Argument that dropout approximation is equal to maximizing ELBO with an extensive deep neural network architecture, having dropouts at each layer. Argue why this is not Bayesian: We maximize the evidence lower bound (ELBO) by applying  dropout approximation, but this ELBO is too high to consider that minimizing the KL divergence."
      ]
    },
    {
      "metadata": {
        "id": "X1rxb0UiNYHT",
        "colab_type": "code",
        "colab": {}
      },
      "cell_type": "code",
      "source": [
        ""
      ],
      "execution_count": 0,
      "outputs": []
    }
  ]
}