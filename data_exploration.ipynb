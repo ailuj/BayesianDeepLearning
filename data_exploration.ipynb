{
 "cells": [
  {
   "cell_type": "markdown",
   "metadata": {},
   "source": [
    "### Lending Club Loan Data\n",
    "\n",
    "The lending club loan data set (accessible on kaggle.com: https://www.kaggle.com/wendykan/lending-club-loan-data) contains data for loans in the period of 2007 - 2015. It includes, among others, information about current payments, the loan status (current, late, fully paid etc.) and data about the borrower such as state, annual income and home ownership. The complete data set consists of approximately 890.000 rows and 74 columns. "
   ]
  },
  {
   "cell_type": "markdown",
   "metadata": {},
   "source": [
    "### Objective\n",
    "\n",
    "For this tutorial, we aim to implement a Bayesian neural network using the MC Dropout technique to predict profits for the lending club. \n",
    "\n",
    "(add: why we use bayesian instead of deterministic, importance of uncertainty)"
   ]
  },
  {
   "cell_type": "markdown",
   "metadata": {},
   "source": [
    "### Data Exploration\n",
    "Before we implement the Bayesian neural network, we will explore and clean the data. Because we are only interested in past loans, we have already created a new data set, for which we removed loans where the loan status is \"current\". We now have a data set with 285,600 rows and 74 columns."
   ]
  },
  {
   "cell_type": "code",
   "execution_count": 120,
   "metadata": {},
   "outputs": [],
   "source": [
    "import pandas as pd\n",
    "import seaborn as sns\n",
    "import matplotlib.pyplot as plt\n",
    "loan = pd.read_csv(\"data/loans_Past.csv\", low_memory=False)\n",
    "#loan = loan.dropna(axis=1, how='all')"
   ]
  },
  {
   "cell_type": "code",
   "execution_count": 118,
   "metadata": {},
   "outputs": [
    {
     "name": "stdout",
     "output_type": "stream",
     "text": [
      "(887379, 74)\n"
     ]
    },
    {
     "data": {
      "text/html": [
       "<div>\n",
       "<style scoped>\n",
       "    .dataframe tbody tr th:only-of-type {\n",
       "        vertical-align: middle;\n",
       "    }\n",
       "\n",
       "    .dataframe tbody tr th {\n",
       "        vertical-align: top;\n",
       "    }\n",
       "\n",
       "    .dataframe thead th {\n",
       "        text-align: right;\n",
       "    }\n",
       "</style>\n",
       "<table border=\"1\" class=\"dataframe\">\n",
       "  <thead>\n",
       "    <tr style=\"text-align: right;\">\n",
       "      <th></th>\n",
       "      <th>id</th>\n",
       "      <th>member_id</th>\n",
       "      <th>loan_amnt</th>\n",
       "      <th>funded_amnt</th>\n",
       "      <th>funded_amnt_inv</th>\n",
       "      <th>term</th>\n",
       "      <th>int_rate</th>\n",
       "      <th>installment</th>\n",
       "      <th>grade</th>\n",
       "      <th>sub_grade</th>\n",
       "      <th>...</th>\n",
       "      <th>total_bal_il</th>\n",
       "      <th>il_util</th>\n",
       "      <th>open_rv_12m</th>\n",
       "      <th>open_rv_24m</th>\n",
       "      <th>max_bal_bc</th>\n",
       "      <th>all_util</th>\n",
       "      <th>total_rev_hi_lim</th>\n",
       "      <th>inq_fi</th>\n",
       "      <th>total_cu_tl</th>\n",
       "      <th>inq_last_12m</th>\n",
       "    </tr>\n",
       "  </thead>\n",
       "  <tbody>\n",
       "    <tr>\n",
       "      <th>0</th>\n",
       "      <td>1077501</td>\n",
       "      <td>1296599</td>\n",
       "      <td>5000</td>\n",
       "      <td>5000</td>\n",
       "      <td>4975.0</td>\n",
       "      <td>36 months</td>\n",
       "      <td>10.65</td>\n",
       "      <td>162.87</td>\n",
       "      <td>B</td>\n",
       "      <td>B2</td>\n",
       "      <td>...</td>\n",
       "      <td>NaN</td>\n",
       "      <td>NaN</td>\n",
       "      <td>NaN</td>\n",
       "      <td>NaN</td>\n",
       "      <td>NaN</td>\n",
       "      <td>NaN</td>\n",
       "      <td>NaN</td>\n",
       "      <td>NaN</td>\n",
       "      <td>NaN</td>\n",
       "      <td>NaN</td>\n",
       "    </tr>\n",
       "    <tr>\n",
       "      <th>1</th>\n",
       "      <td>1077430</td>\n",
       "      <td>1314167</td>\n",
       "      <td>2500</td>\n",
       "      <td>2500</td>\n",
       "      <td>2500.0</td>\n",
       "      <td>60 months</td>\n",
       "      <td>15.27</td>\n",
       "      <td>59.83</td>\n",
       "      <td>C</td>\n",
       "      <td>C4</td>\n",
       "      <td>...</td>\n",
       "      <td>NaN</td>\n",
       "      <td>NaN</td>\n",
       "      <td>NaN</td>\n",
       "      <td>NaN</td>\n",
       "      <td>NaN</td>\n",
       "      <td>NaN</td>\n",
       "      <td>NaN</td>\n",
       "      <td>NaN</td>\n",
       "      <td>NaN</td>\n",
       "      <td>NaN</td>\n",
       "    </tr>\n",
       "    <tr>\n",
       "      <th>2</th>\n",
       "      <td>1077175</td>\n",
       "      <td>1313524</td>\n",
       "      <td>2400</td>\n",
       "      <td>2400</td>\n",
       "      <td>2400.0</td>\n",
       "      <td>36 months</td>\n",
       "      <td>15.96</td>\n",
       "      <td>84.33</td>\n",
       "      <td>C</td>\n",
       "      <td>C5</td>\n",
       "      <td>...</td>\n",
       "      <td>NaN</td>\n",
       "      <td>NaN</td>\n",
       "      <td>NaN</td>\n",
       "      <td>NaN</td>\n",
       "      <td>NaN</td>\n",
       "      <td>NaN</td>\n",
       "      <td>NaN</td>\n",
       "      <td>NaN</td>\n",
       "      <td>NaN</td>\n",
       "      <td>NaN</td>\n",
       "    </tr>\n",
       "    <tr>\n",
       "      <th>3</th>\n",
       "      <td>1076863</td>\n",
       "      <td>1277178</td>\n",
       "      <td>10000</td>\n",
       "      <td>10000</td>\n",
       "      <td>10000.0</td>\n",
       "      <td>36 months</td>\n",
       "      <td>13.49</td>\n",
       "      <td>339.31</td>\n",
       "      <td>C</td>\n",
       "      <td>C1</td>\n",
       "      <td>...</td>\n",
       "      <td>NaN</td>\n",
       "      <td>NaN</td>\n",
       "      <td>NaN</td>\n",
       "      <td>NaN</td>\n",
       "      <td>NaN</td>\n",
       "      <td>NaN</td>\n",
       "      <td>NaN</td>\n",
       "      <td>NaN</td>\n",
       "      <td>NaN</td>\n",
       "      <td>NaN</td>\n",
       "    </tr>\n",
       "    <tr>\n",
       "      <th>4</th>\n",
       "      <td>1075269</td>\n",
       "      <td>1311441</td>\n",
       "      <td>5000</td>\n",
       "      <td>5000</td>\n",
       "      <td>5000.0</td>\n",
       "      <td>36 months</td>\n",
       "      <td>7.90</td>\n",
       "      <td>156.46</td>\n",
       "      <td>A</td>\n",
       "      <td>A4</td>\n",
       "      <td>...</td>\n",
       "      <td>NaN</td>\n",
       "      <td>NaN</td>\n",
       "      <td>NaN</td>\n",
       "      <td>NaN</td>\n",
       "      <td>NaN</td>\n",
       "      <td>NaN</td>\n",
       "      <td>NaN</td>\n",
       "      <td>NaN</td>\n",
       "      <td>NaN</td>\n",
       "      <td>NaN</td>\n",
       "    </tr>\n",
       "  </tbody>\n",
       "</table>\n",
       "<p>5 rows × 74 columns</p>\n",
       "</div>"
      ],
      "text/plain": [
       "        id  member_id  loan_amnt  funded_amnt  funded_amnt_inv        term  \\\n",
       "0  1077501    1296599       5000         5000           4975.0   36 months   \n",
       "1  1077430    1314167       2500         2500           2500.0   60 months   \n",
       "2  1077175    1313524       2400         2400           2400.0   36 months   \n",
       "3  1076863    1277178      10000        10000          10000.0   36 months   \n",
       "4  1075269    1311441       5000         5000           5000.0   36 months   \n",
       "\n",
       "   int_rate  installment grade sub_grade     ...      total_bal_il il_util  \\\n",
       "0     10.65       162.87     B        B2     ...               NaN     NaN   \n",
       "1     15.27        59.83     C        C4     ...               NaN     NaN   \n",
       "2     15.96        84.33     C        C5     ...               NaN     NaN   \n",
       "3     13.49       339.31     C        C1     ...               NaN     NaN   \n",
       "4      7.90       156.46     A        A4     ...               NaN     NaN   \n",
       "\n",
       "  open_rv_12m  open_rv_24m max_bal_bc all_util total_rev_hi_lim inq_fi  \\\n",
       "0         NaN          NaN        NaN      NaN              NaN    NaN   \n",
       "1         NaN          NaN        NaN      NaN              NaN    NaN   \n",
       "2         NaN          NaN        NaN      NaN              NaN    NaN   \n",
       "3         NaN          NaN        NaN      NaN              NaN    NaN   \n",
       "4         NaN          NaN        NaN      NaN              NaN    NaN   \n",
       "\n",
       "  total_cu_tl inq_last_12m  \n",
       "0         NaN          NaN  \n",
       "1         NaN          NaN  \n",
       "2         NaN          NaN  \n",
       "3         NaN          NaN  \n",
       "4         NaN          NaN  \n",
       "\n",
       "[5 rows x 74 columns]"
      ]
     },
     "execution_count": 118,
     "metadata": {},
     "output_type": "execute_result"
    }
   ],
   "source": [
    "print(loan.shape)\n",
    "loan.head()\n",
    "#loan_all[[\"total_rec_prncp\", \"total_pymnt\", \"total_pymnt_inv\", \"loan_status\"]]"
   ]
  },
  {
   "cell_type": "markdown",
   "metadata": {},
   "source": [
    "The first few rows of the data set show that some of the columns seem to have quite a lot of missing values.\n",
    "In order to obtain a better overview, we start by creating a data set `loan_missing` which contains boolean values for missing data. We then sum those missing values by column and calculate the percentage. Lastly, we order the dataframe by the percentage of missing values, with the highest percentage on top."
   ]
  },
  {
   "cell_type": "code",
   "execution_count": 89,
   "metadata": {},
   "outputs": [],
   "source": [
    "loan_missing = loan.isna()\n",
    "loan_missing_count = loan_missing.sum()"
   ]
  },
  {
   "cell_type": "code",
   "execution_count": 90,
   "metadata": {},
   "outputs": [],
   "source": [
    "loan_missing_percentage = (loan_missing_count / len(loan)).round(4) * 100\n",
    "loan_missing_sorted = loan_missing_percentage.sort_values(ascending=False)"
   ]
  },
  {
   "cell_type": "code",
   "execution_count": 91,
   "metadata": {},
   "outputs": [
    {
     "data": {
      "text/plain": [
       "dti_joint                      99.98\n",
       "verification_status_joint      99.98\n",
       "annual_inc_joint               99.98\n",
       "il_util                        97.50\n",
       "mths_since_rcnt_il             97.19\n",
       "max_bal_bc                     97.12\n",
       "open_rv_24m                    97.12\n",
       "open_rv_12m                    97.12\n",
       "all_util                       97.12\n",
       "total_bal_il                   97.12\n",
       "open_il_24m                    97.12\n",
       "open_il_12m                    97.12\n",
       "open_il_6m                     97.12\n",
       "open_acc_6m                    97.12\n",
       "total_cu_tl                    97.12\n",
       "inq_fi                         97.12\n",
       "inq_last_12m                   97.12\n",
       "next_pymnt_d                   88.58\n",
       "mths_since_last_record         86.81\n",
       "mths_since_last_major_derog    80.24\n",
       "desc                           67.56\n",
       "mths_since_last_delinq         54.60\n",
       "tot_cur_bal                    23.35\n",
       "tot_coll_amt                   23.35\n",
       "total_rev_hi_lim               23.35\n",
       "emp_title                       5.61\n",
       "emp_length                      4.11\n",
       "last_pymnt_d                    3.27\n",
       "revol_util                      0.09\n",
       "collections_12_mths_ex_med      0.05\n",
       "                               ...  \n",
       "home_ownership                  0.00\n",
       "annual_inc                      0.00\n",
       "loan_amnt                       0.00\n",
       "sub_grade                       0.00\n",
       "grade                           0.00\n",
       "installment                     0.00\n",
       "int_rate                        0.00\n",
       "term                            0.00\n",
       "funded_amnt_inv                 0.00\n",
       "url                             0.00\n",
       "funded_amnt                     0.00\n",
       "out_prncp                       0.00\n",
       "purpose                         0.00\n",
       "zip_code                        0.00\n",
       "application_type                0.00\n",
       "policy_code                     0.00\n",
       "last_pymnt_amnt                 0.00\n",
       "collection_recovery_fee         0.00\n",
       "recoveries                      0.00\n",
       "total_rec_late_fee              0.00\n",
       "total_rec_int                   0.00\n",
       "total_rec_prncp                 0.00\n",
       "total_pymnt_inv                 0.00\n",
       "total_pymnt                     0.00\n",
       "out_prncp_inv                   0.00\n",
       "initial_list_status             0.00\n",
       "revol_bal                       0.00\n",
       "dti                             0.00\n",
       "addr_state                      0.00\n",
       "id                              0.00\n",
       "Length: 74, dtype: float64"
      ]
     },
     "execution_count": 91,
     "metadata": {},
     "output_type": "execute_result"
    }
   ],
   "source": [
    "loan_missing_sorted"
   ]
  },
  {
   "cell_type": "markdown",
   "metadata": {},
   "source": [
    "The resulting table proves that a lot of columns are almost completely empty. We set a threshold of 50% and remove each column above this threshold. We now have 52 columns left."
   ]
  },
  {
   "cell_type": "code",
   "execution_count": 123,
   "metadata": {},
   "outputs": [
    {
     "data": {
      "text/plain": [
       "(285600, 52)"
      ]
     },
     "execution_count": 123,
     "metadata": {},
     "output_type": "execute_result"
    }
   ],
   "source": [
    "temp = [i for i in loan.count()<len(loan)*0.50]\n",
    "loan.drop(loan.columns[temp],axis=1,inplace=True)\n",
    "loan.shape"
   ]
  },
  {
   "cell_type": "markdown",
   "metadata": {},
   "source": [
    "Since there is no profit column existing in our data set, we define a target variable `profit` containing the profit rate. Now we look at the distribution of profits in order to find out if there are any imbalances in our target variable. We classify the target values as positive / negative profit and count the occurences."
   ]
  },
  {
   "cell_type": "code",
   "execution_count": 124,
   "metadata": {},
   "outputs": [
    {
     "data": {
      "text/plain": [
       "1    208985\n",
       "0     76615\n",
       "Name: class, dtype: int64"
      ]
     },
     "execution_count": 124,
     "metadata": {},
     "output_type": "execute_result"
    }
   ],
   "source": [
    "loan[\"profit\"] = loan.apply(lambda x: ((x['total_pymnt'] - x['loan_amnt'])/x['loan_amnt']), axis = 1)\n",
    "loan[\"profit\"] = loan[\"profit\"].round(2)\n",
    "\n",
    "target_class = pd.DataFrame(columns=[\"class\"])\n",
    "target_class[\"class\"] = [1 if i > 0 else 0 for i in loan[\"profit\"]]\n",
    "target_class[\"class\"].value_counts()"
   ]
  },
  {
   "cell_type": "markdown",
   "metadata": {},
   "source": [
    "The profit classes show that there are far more instances of positive profit than negative profit, meaning that our data set is imbalanced. In order to avoid a biased prediction, we will need to balance the data later on.\n",
    "\n",
    "Now, we will have a look at what variables have the highest positive and negative correlation with our target variable. "
   ]
  },
  {
   "cell_type": "code",
   "execution_count": 95,
   "metadata": {},
   "outputs": [
    {
     "name": "stdout",
     "output_type": "stream",
     "text": [
      "most positive correlations:\n",
      " profit              1.000000\n",
      "total_rec_prncp     0.551126\n",
      "total_pymnt         0.515352\n",
      "total_pymnt_inv     0.510558\n",
      "last_pymnt_amnt     0.362307\n",
      "total_rec_int       0.218768\n",
      "tot_cur_bal         0.040476\n",
      "annual_inc          0.020393\n",
      "total_rev_hi_lim    0.004064\n",
      "inq_last_6mths      0.000856\n",
      "Name: profit, dtype: float64\n",
      "most negative correlations:\n",
      " loan_amnt                 -0.079100\n",
      "int_rate                  -0.100841\n",
      "collection_recovery_fee   -0.137428\n",
      "dti                       -0.146143\n",
      "recoveries                -0.229157\n",
      "id                        -0.481423\n",
      "member_id                 -0.482082\n",
      "out_prncp                 -0.543330\n",
      "out_prncp_inv             -0.543338\n",
      "policy_code                     NaN\n",
      "Name: profit, dtype: float64\n"
     ]
    }
   ],
   "source": [
    "loan.head()\n",
    "corr = loan.corr()[\"profit\"].sort_values(ascending=False)\n",
    "print('most positive correlations:\\n', corr.head(10))\n",
    "\n",
    "print('most negative correlations:\\n', corr.tail(10))\n",
    "#corr = loan.corr()\n",
    "#corr"
   ]
  },
  {
   "cell_type": "markdown",
   "metadata": {},
   "source": [
    "The columns `total_rec_prncp` (prinicpal received to date), `total_pymnt` (payments received to date for total amount funded) and `total_pymnt_inv` (payments received to date for portion of total amount funded by investors) have the highest positive correlation with our target column. \n",
    "The columns `out_prncp` (remaining outstanding principal for total amount funded) and `out_prncp_inv` (remaining outstanding principal for portion of total amount funded by investors) have the highest negative correlation with the target column.\n",
    "\n",
    "(makes sense for past loans, but for current loans which will be predicted may not necessarily be as significant)"
   ]
  },
  {
   "cell_type": "code",
   "execution_count": 126,
   "metadata": {
    "scrolled": true
   },
   "outputs": [
    {
     "data": {
      "image/png": "[encoded data removed]",
      "text/plain": [
       "<Figure size 1584x432 with 1 Axes>"
      ]
     },
     "metadata": {
      "needs_background": "light"
     },
     "output_type": "display_data"
    }
   ],
   "source": [
    "fig = plt.figure(figsize=(22,6))\n",
    "sns.kdeplot(loan.loc[loan['profit'] > 0, 'total_rec_prncp'], label = 'profit rate > 0')\n",
    "sns.kdeplot(loan.loc[loan['profit'] <= 0, 'total_rec_prncp'], label = 'profit rate <= 0');\n",
    "plt.xlabel('Principal Received',fontsize=15)\n",
    "plt.ylabel('Density',fontsize=15)\n",
    "plt.title('Distribution of Principal Received to Date',fontsize=20);"
   ]
  },
  {
   "cell_type": "markdown",
   "metadata": {},
   "source": [
    "The distribution of principal received to date shows that most instances with negative profits appear in the range of 0 - 10,000$, whereas instances with positive profits are more widely distributed.  "
   ]
  },
  {
   "cell_type": "code",
   "execution_count": 135,
   "metadata": {},
   "outputs": [
    {
     "data": {
      "text/plain": [
       "0.0"
      ]
     },
     "execution_count": 135,
     "metadata": {},
     "output_type": "execute_result"
    }
   ],
   "source": [
    "loan['member_id'].value_counts().head()"
   ]
  },
  {
   "cell_type": "markdown",
   "metadata": {},
   "source": [
    "There are no members who have taken more than one loan. Consequently, the member id does not indicate whether the borrower is likely to pay back their loan. Hence, the column does not need to be considered for predictions. "
   ]
  },
  {
   "cell_type": "code",
   "execution_count": 169,
   "metadata": {},
   "outputs": [
    {
     "data": {
      "image/png": "[encoded data removed]",
      "text/plain": [
       "<Figure size 1008x720 with 1 Axes>"
      ]
     },
     "metadata": {
      "needs_background": "light"
     },
     "output_type": "display_data"
    }
   ],
   "source": [
    "profit_by_purpose = pd.DataFrame(loan[loan['profit']>0].groupby('purpose')['profit'].count().sort_values())\n",
    "profit_by_purpose[\"profit_neg\"] = pd.DataFrame(loan[loan['profit']<=0].groupby('purpose')['profit'].count().sort_values())[\"profit\"]\n",
    "\n",
    "fig, ax = plt.subplots(figsize=(14, 10))\n",
    "profit_by_purpose.plot(kind=\"bar\", ax=ax)\n",
    "plt.ylabel('Number of loans',fontsize=15)\n",
    "plt.xlabel('Purpose',fontsize=15)\n",
    "plt.title('Number of loans by purpose', fontsize=20);\n",
    "L=plt.legend()\n",
    "L.get_texts()[0].set_text('positive profit')\n",
    "L.get_texts()[1].set_text('negative profit')"
   ]
  },
  {
   "cell_type": "markdown",
   "metadata": {},
   "source": [
    "The barplot shows that most loans are issued for debt consolidation and credit cards - these are also the categories with the highest amount of loans with negative profit. There is no category where the amount of loans with negative profits exceeds loans with positive profits. However, there certainly are categories where the share of negative profits is very small, such as house, car or wedding."
   ]
  },
  {
   "cell_type": "markdown",
   "metadata": {},
   "source": [
    "#### Balance Data"
   ]
  },
  {
   "cell_type": "code",
   "execution_count": null,
   "metadata": {},
   "outputs": [],
   "source": [
    "from imblearn.over_sampling import SMOTE\n",
    "from sklearn.model_selection import train_test_split\n",
    "\n",
    "\n",
    "sm = SMOTE(random_state=43, ratio = 1.0)\n",
    "x_train_new, y_train_new = sm.fit_sample(x_train, y_train)"
   ]
  }
 ],
 "metadata": {
  "kernelspec": {
   "display_name": "Python 3",
   "language": "python",
   "name": "python3"
  },
  "language_info": {
   "codemirror_mode": {
    "name": "ipython",
    "version": 3
   },
   "file_extension": ".py",
   "mimetype": "text/x-python",
   "name": "python",
   "nbconvert_exporter": "python",
   "pygments_lexer": "ipython3",
   "version": "3.7.1"
  }
 },
 "nbformat": 4,
 "nbformat_minor": 2
}
